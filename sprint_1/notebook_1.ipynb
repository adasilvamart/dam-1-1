{
 "cells": [
  {
   "cell_type": "markdown",
   "metadata": {},
   "source": [
    "# Lesson 1 How to get started\n",
    "\n",
    "### Quiz 1\n",
    "\n",
    "- [x]  Get started programming\n",
    "- [x]  Learn some important computer science concepts\n",
    "- [x]  Write code to extract a link from a web\n",
    "- [ ]  Write code to rank Web pages.\n",
    "\n",
    "### Quiz 2\n",
    "\n",
    "Wich of these are computer programs?\n",
    "\n",
    "- [x]  A Web browser\n",
    "- [ ]  A slice of toast\n",
    "- [x]  The Python interpreter\n",
    "- [x]  Calendar app on a phone\n",
    "- [x]  The Python code you will write in this class → print(’Hello”)\n",
    "\n"
   ]
  },
  {
   "cell_type": "markdown",
   "metadata": {},
   "source": [
    "### Programming Quiz 1\n",
    "\n",
    "Write a program that prints out the number of minutes there are in 7 weeks\n",
    "\n"
   ]
  },
  {
   "cell_type": "code",
   "execution_count": 1,
   "metadata": {},
   "outputs": [
    {
     "name": "stdout",
     "output_type": "stream",
     "text": [
      "70560\n"
     ]
    }
   ],
   "source": [
    "\n",
    "WEEK_MINUTES = 7 * ( 60 * 24 )\n",
    "\n",
    "print( 7 * WEEK_MINUTES )"
   ]
  },
  {
   "cell_type": "markdown",
   "metadata": {},
   "source": [
    "\n",
    "### Quiz 3\n",
    "\n",
    "Would you rather be paid $100 weekly or biweekly?\n",
    "\n",
    "- [ ]  Prefer to be paid $100 weekly\n",
    "- [ ]  Prefer to be paid $100 biweekly\n",
    "- [x]  It depends\n",
    "- [ ]  Prefer not to be paid at all\n",
    "\n",
    "### Quiz 4\n",
    "\n",
    "Which of the following are valid Python expressions that can be produced starting from Expression?\n",
    "\n",
    "- [x]  3\n",
    "- [x]  ( 1 * ( 2 * ( 3 * 4 ) ) )\n",
    "- [ ]  ( ( 3 )\n",
    "- [ ]  + 3 3\n",
    "- [x]  ( ( ( 7 ) ) )"
   ]
  },
  {
   "cell_type": "markdown",
   "metadata": {},
   "source": [
    "\n",
    "### Speed of Light\n",
    "\n",
    "Write a Python code to print out how far light travels in centimeters in one nanosecond\n",
    "\n",
    "- Speed of light = 299792458 m/s\n",
    "- meter = 100 cm\n",
    "- nanosecond = 1 / 1 000 000 000"
   ]
  },
  {
   "cell_type": "code",
   "execution_count": 2,
   "metadata": {},
   "outputs": [
    {
     "name": "stdout",
     "output_type": "stream",
     "text": [
      "29.9792458\n"
     ]
    }
   ],
   "source": [
    "speed_of_light = 299792458\n",
    "meter = 100\n",
    "nanosecond = 1 / 1000000000\n",
    "\n",
    "result = speed_of_light * meter * nanosecond\n",
    "\n",
    "print(result)"
   ]
  },
  {
   "cell_type": "markdown",
   "metadata": {},
   "source": [
    "\n",
    "### Processors\n",
    "\n",
    "Write a Python code to print out how far light travels in centrimeters in one nanosecond"
   ]
  },
  {
   "cell_type": "code",
   "execution_count": 3,
   "metadata": {},
   "outputs": [
    {
     "name": "stdout",
     "output_type": "stream",
     "text": [
      "11.10342437037037\n"
     ]
    }
   ],
   "source": [
    "\n",
    "speed_of_light = 299792458\n",
    "meter = 100\n",
    "nanosecond = 1 / 1000000000\n",
    "\n",
    "result = speed_of_light * meter * nanosecond * 1/2.7\n",
    "\n",
    "print(result)"
   ]
  },
  {
   "cell_type": "markdown",
   "metadata": {},
   "source": [
    "#### Variables Quiz\n",
    "\n",
    "Write a Python code that prints out the distance, in meters, that light travels in one processor cycle."
   ]
  },
  {
   "cell_type": "code",
   "execution_count": 4,
   "metadata": {},
   "outputs": [
    {
     "name": "stdout",
     "output_type": "stream",
     "text": [
      "11.10342437037037\n"
     ]
    }
   ],
   "source": [
    "speed_of_light = 299792458     #meters/second\n",
    "cycles_per_second = 2700000000 #2.7GH\n",
    "\n",
    "print( (speed_of_light / cycles_per_second) * 100 )"
   ]
  },
  {
   "cell_type": "markdown",
   "metadata": {},
   "source": [
    "### Variables can vary"
   ]
  },
  {
   "cell_type": "code",
   "execution_count": 5,
   "metadata": {},
   "outputs": [
    {
     "name": "stdout",
     "output_type": "stream",
     "text": [
      "10.7068735\n"
     ]
    }
   ],
   "source": [
    "speed_of_light = 299792458     #meters/second\n",
    "cycles_per_second = 2700000000 #2.7GH\n",
    "\n",
    "cycle_distance = speed_of_light / cycles_per_second\n",
    "\n",
    "cycles_per_second = 2800000000 #2.8\n",
    "\n",
    "cycle_distance = speed_of_light / cycles_per_second\n",
    "\n",
    "print(cycle_distance * 100)"
   ]
  },
  {
   "cell_type": "markdown",
   "metadata": {},
   "source": [
    "### Varying variables quiz\n",
    "\n",
    "What is the value of hours after running this code:"
   ]
  },
  {
   "cell_type": "code",
   "execution_count": 6,
   "metadata": {},
   "outputs": [
    {
     "name": "stdout",
     "output_type": "stream",
     "text": [
      "20\n"
     ]
    }
   ],
   "source": [
    "hours = 9 \n",
    "hours = hours + 1\n",
    "hours = hours * 2\n",
    "\n",
    "print(hours) #La solución es 20"
   ]
  },
  {
   "cell_type": "markdown",
   "metadata": {},
   "source": [
    "### Varying variables quiz 2\n",
    "\n",
    "What is the value of seconds after running this code"
   ]
  },
  {
   "cell_type": "code",
   "execution_count": 7,
   "metadata": {},
   "outputs": [
    {
     "ename": "NameError",
     "evalue": "name 'minutes' is not defined",
     "output_type": "error",
     "traceback": [
      "\u001b[1;31m---------------------------------------------------------------------------\u001b[0m",
      "\u001b[1;31mNameError\u001b[0m                                 Traceback (most recent call last)",
      "\u001b[1;32mc:\\Users\\Voldemort\\Documents\\Code\\Python\\dam_ies_teis\\sprint_1\\lesson_1.ipynb Cell 16\u001b[0m line \u001b[0;36m1\n\u001b[1;32m----> <a href='vscode-notebook-cell:/c%3A/Users/Voldemort/Documents/Code/Python/dam_ies_teis/sprint_1/lesson_1.ipynb#X23sZmlsZQ%3D%3D?line=0'>1</a>\u001b[0m minutes \u001b[39m=\u001b[39m minutes \u001b[39m+\u001b[39m \u001b[39m1\u001b[39m\n\u001b[0;32m      <a href='vscode-notebook-cell:/c%3A/Users/Voldemort/Documents/Code/Python/dam_ies_teis/sprint_1/lesson_1.ipynb#X23sZmlsZQ%3D%3D?line=1'>2</a>\u001b[0m seconds \u001b[39m=\u001b[39m minutes \u001b[39m*\u001b[39m \u001b[39m60\u001b[39m\n\u001b[0;32m      <a href='vscode-notebook-cell:/c%3A/Users/Voldemort/Documents/Code/Python/dam_ies_teis/sprint_1/lesson_1.ipynb#X23sZmlsZQ%3D%3D?line=3'>4</a>\u001b[0m \u001b[39m# Error\u001b[39;00m\n",
      "\u001b[1;31mNameError\u001b[0m: name 'minutes' is not defined"
     ]
    }
   ],
   "source": [
    "minutes = minutes + 1\n",
    "seconds = minutes * 60\n",
    "\n",
    "# Error"
   ]
  },
  {
   "cell_type": "markdown",
   "metadata": {},
   "source": [
    "### Spirit Age\n",
    "\n",
    "Write a Python code that defines the variable age to be your age in years, and then prints out the number of days you have been alive"
   ]
  },
  {
   "cell_type": "code",
   "execution_count": null,
   "metadata": {},
   "outputs": [],
   "source": [
    "age = 25\n",
    "\n",
    "days_in_year = 365.25\n",
    "\n",
    "age_in_days = age * days_in_year\n",
    "\n",
    "print(age_in_days)"
   ]
  },
  {
   "cell_type": "markdown",
   "metadata": {},
   "source": [
    "### Valid String\n",
    "\n",
    "Which of the following are valid strings in Python ?\n",
    "\n",
    "- [x]  “Ada”\n",
    "- [ ]  ‘Ada”\n",
    "- [ ]  “Ada\n",
    "- [ ]  Ada\n",
    "- [x]  ‘”Ada’\n",
    "\n",
    "### Hello!! Quiz\n",
    "\n",
    "```python\n",
    "name = \"Aarón\"\n",
    "```\n",
    "\n",
    "### Same Value Quiz\n",
    "\n",
    "`s[3], s[1 +1 +1]`\n",
    "\n",
    "`s[0], (s + s)[0]`\n",
    "\n",
    "`s[-1], (s + s)[-1]`"
   ]
  },
  {
   "cell_type": "markdown",
   "metadata": {},
   "source": [
    "\n",
    "### Capital Udacity Quiz\n",
    "\n",
    "Write a Python code that prints out Udacity (with a capital U), given the definition `s ='audacity'` "
   ]
  },
  {
   "cell_type": "code",
   "execution_count": null,
   "metadata": {},
   "outputs": [],
   "source": [
    "s = 'audacity'\n",
    "\n",
    "print('U' + s[2:])"
   ]
  },
  {
   "cell_type": "markdown",
   "metadata": {},
   "source": [
    "### Understanding Selection Quiz\n",
    "\n",
    "`s[:]`\n",
    "\n",
    "`s + s[0:-1+1]`\n",
    "\n",
    "`s[0:]`\n",
    "\n",
    "`s[:3] + s[3:]`\n",
    "\n",
    "### Testing Quiz\n",
    "\n",
    "`\"Test\".find('te')`\n",
    "\n",
    "`‘west’.find(’test’`\n",
    "\n",
    "### Testing Quiz 2\n",
    "\n",
    "`s.find(s)`"
   ]
  },
  {
   "cell_type": "markdown",
   "metadata": {},
   "source": [
    "### Extracting Links"
   ]
  },
  {
   "cell_type": "code",
   "execution_count": null,
   "metadata": {},
   "outputs": [],
   "source": [
    "start_link = page.find(\"<a href=\")"
   ]
  },
  {
   "cell_type": "markdown",
   "metadata": {},
   "source": [
    "### Final Test"
   ]
  },
  {
   "cell_type": "code",
   "execution_count": 10,
   "metadata": {},
   "outputs": [
    {
     "name": "stdout",
     "output_type": "stream",
     "text": [
      "('https://www.edu.xunta.gal/centros/iesteis/aulavirtual/login/index.ph', -1)\n"
     ]
    }
   ],
   "source": [
    "def get_next_target(page):\n",
    "    \n",
    "    start_link = page.find(\"<a href=\")\n",
    "    first_quote = page.find('\"', start_link)\n",
    "    last_quote = page.find('\"', first_quote + 1)\n",
    "\n",
    "    url = page[first_quote + 1 : last_quote]\n",
    "\n",
    "    return url, last_quote\n",
    "\n",
    "page = \"bla bla bla bla <a href=\\\"https://www.edu.xunta.gal/centros/iesteis/aulavirtual/login/index.php\"\n",
    "\n",
    "print(get_next_target(page))"
   ]
  }
 ],
 "metadata": {
  "kernelspec": {
   "display_name": "Python 3",
   "language": "python",
   "name": "python3"
  },
  "language_info": {
   "codemirror_mode": {
    "name": "ipython",
    "version": 3
   },
   "file_extension": ".py",
   "mimetype": "text/x-python",
   "name": "python",
   "nbconvert_exporter": "python",
   "pygments_lexer": "ipython3",
   "version": "3.11.5"
  }
 },
 "nbformat": 4,
 "nbformat_minor": 2
}
